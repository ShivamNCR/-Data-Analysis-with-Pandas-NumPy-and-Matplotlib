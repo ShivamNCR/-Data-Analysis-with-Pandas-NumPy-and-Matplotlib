{
 "cells": [
  {
   "cell_type": "markdown",
   "id": "916604e5-3fd8-472e-892b-3ffc0091d840",
   "metadata": {},
   "source": [
    "## Questions"
   ]
  },
  {
   "cell_type": "code",
   "execution_count": null,
   "id": "676e3383-cbb9-44cf-b6f4-796f4ff703ca",
   "metadata": {},
   "outputs": [],
   "source": [
    "Q1. Create a Pandas Series that contains the following data: 4, 8, 15, 16, 23, and 42. Then, print the series.\n",
    "    \n",
    "Q2. Create a variable of list type containing 10 elements in it, and apply pandas.Series function on the\n",
    "variable print it.\n",
    "\n",
    "Q3. Create a Pandas DataFrame that contains the following data:\n",
    "Name   Age   Gender\n",
    "Alice  25    Female\n",
    "Bob    30    Male \n",
    "Claire 27    Female\n",
    "\n",
    "Then, print the DataFrame.\n",
    "    \n",
    "Q4. What is ‘DataFrame’ in pandas and how is it different from pandas.series? Explain with an example.\n",
    "\n",
    "Q5. What are some common functions you can use to manipulate data in a Pandas DataFrame? Can\n",
    "you give an example of when you might use one of these functions?\n",
    "\n",
    "Q6. Which of the following is mutable in nature Series, DataFrame, Panel?\n",
    "\n",
    "Q7. Create a DataFrame using multiple Series. Explain with an example."
   ]
  },
  {
   "cell_type": "code",
   "execution_count": 2,
   "id": "81a65667-8ce4-4559-a40f-594bedd4e910",
   "metadata": {},
   "outputs": [],
   "source": [
    "import pandas as pd"
   ]
  },
  {
   "cell_type": "code",
   "execution_count": 4,
   "id": "4d09520a-e10c-4d8e-94f6-6bb2a8c9a779",
   "metadata": {},
   "outputs": [
    {
     "name": "stdout",
     "output_type": "stream",
     "text": [
      "0     4\n",
      "1     8\n",
      "2    15\n",
      "3    16\n",
      "4    23\n",
      "5    42\n",
      "dtype: int64\n"
     ]
    }
   ],
   "source": [
    "data=[4,8,15,16,23,42]\n",
    "series=pd.Series(data)\n",
    "print(series)"
   ]
  },
  {
   "cell_type": "code",
   "execution_count": 8,
   "id": "24c7a742-0b7d-4cb0-98d0-39a1e6b4a96e",
   "metadata": {},
   "outputs": [],
   "source": [
    "variable=[1,2,3,4,5,6,7,8,9,0]"
   ]
  },
  {
   "cell_type": "code",
   "execution_count": 9,
   "id": "2da07042-73b3-4efc-8ad1-5439496e6db0",
   "metadata": {},
   "outputs": [
    {
     "data": {
      "text/plain": [
       "list"
      ]
     },
     "execution_count": 9,
     "metadata": {},
     "output_type": "execute_result"
    }
   ],
   "source": [
    "type(variable)"
   ]
  },
  {
   "cell_type": "code",
   "execution_count": 10,
   "id": "cc645291-f7bd-4650-b873-75da68a67638",
   "metadata": {},
   "outputs": [],
   "source": [
    "series=pd.Series(variable)"
   ]
  },
  {
   "cell_type": "code",
   "execution_count": 11,
   "id": "72d9c39e-46f6-4962-9b3c-bd6232a101aa",
   "metadata": {},
   "outputs": [
    {
     "name": "stdout",
     "output_type": "stream",
     "text": [
      "0    1\n",
      "1    2\n",
      "2    3\n",
      "3    4\n",
      "4    5\n",
      "5    6\n",
      "6    7\n",
      "7    8\n",
      "8    9\n",
      "9    0\n",
      "dtype: int64\n"
     ]
    }
   ],
   "source": [
    "print(series)"
   ]
  },
  {
   "cell_type": "code",
   "execution_count": 13,
   "id": "c92f34d1-b8e0-42a3-9519-72f7b17326b5",
   "metadata": {},
   "outputs": [],
   "source": [
    "data={\n",
    "    'Name':['Alice','Bob','Claire'],\n",
    "    'Age':[25,30,27],\n",
    "    'Gender':['Female','Male','Female']    \n",
    "}"
   ]
  },
  {
   "cell_type": "code",
   "execution_count": 14,
   "id": "26276097-1ae1-4857-932e-e0b7718df3cc",
   "metadata": {},
   "outputs": [],
   "source": [
    "df=pd.DataFrame(data)"
   ]
  },
  {
   "cell_type": "code",
   "execution_count": 15,
   "id": "dd4f76cb-895a-4379-ade0-d1c2b7a72db0",
   "metadata": {},
   "outputs": [
    {
     "data": {
      "text/html": [
       "<div>\n",
       "<style scoped>\n",
       "    .dataframe tbody tr th:only-of-type {\n",
       "        vertical-align: middle;\n",
       "    }\n",
       "\n",
       "    .dataframe tbody tr th {\n",
       "        vertical-align: top;\n",
       "    }\n",
       "\n",
       "    .dataframe thead th {\n",
       "        text-align: right;\n",
       "    }\n",
       "</style>\n",
       "<table border=\"1\" class=\"dataframe\">\n",
       "  <thead>\n",
       "    <tr style=\"text-align: right;\">\n",
       "      <th></th>\n",
       "      <th>Name</th>\n",
       "      <th>Age</th>\n",
       "      <th>Gender</th>\n",
       "    </tr>\n",
       "  </thead>\n",
       "  <tbody>\n",
       "    <tr>\n",
       "      <th>0</th>\n",
       "      <td>Alice</td>\n",
       "      <td>25</td>\n",
       "      <td>Female</td>\n",
       "    </tr>\n",
       "    <tr>\n",
       "      <th>1</th>\n",
       "      <td>Bob</td>\n",
       "      <td>30</td>\n",
       "      <td>Male</td>\n",
       "    </tr>\n",
       "    <tr>\n",
       "      <th>2</th>\n",
       "      <td>Claire</td>\n",
       "      <td>27</td>\n",
       "      <td>Female</td>\n",
       "    </tr>\n",
       "  </tbody>\n",
       "</table>\n",
       "</div>"
      ],
      "text/plain": [
       "     Name  Age  Gender\n",
       "0   Alice   25  Female\n",
       "1     Bob   30    Male\n",
       "2  Claire   27  Female"
      ]
     },
     "execution_count": 15,
     "metadata": {},
     "output_type": "execute_result"
    }
   ],
   "source": [
    "df.head()"
   ]
  },
  {
   "cell_type": "code",
   "execution_count": null,
   "id": "897c38ab-ab7c-45a1-8c7c-5cacec516ecb",
   "metadata": {},
   "outputs": [],
   "source": [
    "## \n",
    "\n",
    "✅ Pandas Series\n",
    "A Series is a one-dimensional labeled array.\n",
    "\n",
    "It holds data of any type: integers, strings, floats, etc.\n",
    "\n",
    "Think of it as a single column of data with an index.\n",
    "\n",
    "✅ Pandas DataFrame\n",
    "A DataFrame is a two-dimensional labeled data structure.\n",
    "\n",
    "It consists of rows and columns, like a table in SQL or Excel.\n",
    "\n",
    "Each column in a DataFrame is a Series."
   ]
  },
  {
   "cell_type": "code",
   "execution_count": 16,
   "id": "21314848-cf32-4ed6-b7b1-2191a7114cc0",
   "metadata": {},
   "outputs": [
    {
     "name": "stdout",
     "output_type": "stream",
     "text": [
      "Series:\n",
      " 0    25\n",
      "1    30\n",
      "2    27\n",
      "Name: Age, dtype: int64\n",
      "\n",
      "DataFrame:\n",
      "      Name  Age  Gender\n",
      "0   Alice   25  Female\n",
      "1     Bob   30    Male\n",
      "2  Claire   27  Female\n"
     ]
    }
   ],
   "source": [
    "import pandas as pd\n",
    "\n",
    "# Series: One-dimensional\n",
    "age_series = pd.Series([25, 30, 27], name='Age')\n",
    "print(\"Series:\\n\", age_series)\n",
    "\n",
    "# DataFrame: Two-dimensional\n",
    "data = {\n",
    "    'Name': ['Alice', 'Bob', 'Claire'],\n",
    "    'Age': [25, 30, 27],\n",
    "    'Gender': ['Female', 'Male', 'Female']\n",
    "}\n",
    "df = pd.DataFrame(data)\n",
    "print(\"\\nDataFrame:\\n\", df)\n"
   ]
  },
  {
   "cell_type": "code",
   "execution_count": 17,
   "id": "88296e75-284c-427a-9ef8-dc26ed7057bb",
   "metadata": {},
   "outputs": [
    {
     "name": "stdout",
     "output_type": "stream",
     "text": [
      "Region\n",
      "East     150.0\n",
      "North    325.0\n",
      "South    325.0\n",
      "Name: Sales, dtype: float64\n"
     ]
    }
   ],
   "source": [
    "import pandas as pd\n",
    "\n",
    "# Sample data\n",
    "df = pd.DataFrame({\n",
    "    'Region': ['North', 'South', 'East', 'North', 'South'],\n",
    "    'Sales': [250, 300, 150, 400, 350]\n",
    "})\n",
    "\n",
    "# Group by region and calculate mean sales\n",
    "average_sales = df.groupby('Region')['Sales'].mean()\n",
    "print(average_sales)\n"
   ]
  },
  {
   "cell_type": "code",
   "execution_count": null,
   "id": "8de43aed-0fb2-40ab-919e-df0c9518a1dd",
   "metadata": {},
   "outputs": [],
   "source": [
    "All three — Series, DataFrame, and Panel — are mutable in nature.\n",
    "\n",
    "This means their contents (such as data, index, or structure) can be changed after creation. However, \n",
    "it's important to note that Panel is now deprecated in Pandas, and it's recommended to use MultiIndex DataFrames or libraries \n",
    "like xarray for handling 3D data."
   ]
  },
  {
   "cell_type": "code",
   "execution_count": 18,
   "id": "d318e2bf-f67e-40c1-bcf3-f79288f53a48",
   "metadata": {},
   "outputs": [
    {
     "name": "stdout",
     "output_type": "stream",
     "text": [
      "     Name  Age  Gender\n",
      "0   Alice   25  Female\n",
      "1     Bob   30    Male\n",
      "2  Claire   27  Female\n"
     ]
    }
   ],
   "source": [
    "import pandas as pd\n",
    "\n",
    "# Create individual Series\n",
    "names = pd.Series(['Alice', 'Bob', 'Claire'])\n",
    "ages = pd.Series([25, 30, 27])\n",
    "genders = pd.Series(['Female', 'Male', 'Female'])\n",
    "\n",
    "# Combine Series into a DataFrame\n",
    "df = pd.DataFrame({\n",
    "    'Name': names,\n",
    "    'Age': ages,\n",
    "    'Gender': genders\n",
    "})\n",
    "\n",
    "print(df)\n"
   ]
  },
  {
   "cell_type": "code",
   "execution_count": null,
   "id": "fefc5618-4c89-4cf0-8c55-c8f3af03c04a",
   "metadata": {},
   "outputs": [],
   "source": []
  }
 ],
 "metadata": {
  "kernelspec": {
   "display_name": "Python 3 (ipykernel)",
   "language": "python",
   "name": "python3"
  },
  "language_info": {
   "codemirror_mode": {
    "name": "ipython",
    "version": 3
   },
   "file_extension": ".py",
   "mimetype": "text/x-python",
   "name": "python",
   "nbconvert_exporter": "python",
   "pygments_lexer": "ipython3",
   "version": "3.11.7"
  }
 },
 "nbformat": 4,
 "nbformat_minor": 5
}
